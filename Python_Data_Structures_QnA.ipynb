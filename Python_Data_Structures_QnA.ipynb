{
  "cells": [
    {
      "cell_type": "markdown",
      "metadata": {
        "id": "view-in-github",
        "colab_type": "text"
      },
      "source": [
        "<a href=\"https://colab.research.google.com/github/Tushar-rancy/Data-Structure-Advance-assignment/blob/main/Python_Data_Structures_QnA.ipynb\" target=\"_parent\"><img src=\"https://colab.research.google.com/assets/colab-badge.svg\" alt=\"Open In Colab\"/></a>"
      ]
    },
    {
      "cell_type": "markdown",
      "id": "7d7b7a89",
      "metadata": {
        "id": "7d7b7a89"
      },
      "source": [
        "# Python: Data Structures Assignment – Complete Q&A\n",
        "---\n",
        "This notebook contains all 35 assignment questions and answers with Python code."
      ]
    },
    {
      "cell_type": "markdown",
      "id": "c47d3a95",
      "metadata": {
        "id": "c47d3a95"
      },
      "source": [
        "### Q: 1. Write a code to reverse a string"
      ]
    },
    {
      "cell_type": "code",
      "execution_count": null,
      "id": "4c1fffd6",
      "metadata": {
        "id": "4c1fffd6"
      },
      "outputs": [],
      "source": [
        "s = \"hello\"\n",
        "reversed_s = s[::-1]\n",
        "print(reversed_s)"
      ]
    },
    {
      "cell_type": "markdown",
      "id": "1ddfa0a5",
      "metadata": {
        "id": "1ddfa0a5"
      },
      "source": [
        "### Q: 2. Write a code to count the number of vowels in a string"
      ]
    },
    {
      "cell_type": "code",
      "execution_count": null,
      "id": "4ead95ea",
      "metadata": {
        "id": "4ead95ea"
      },
      "outputs": [],
      "source": [
        "s = \"hello world\"\n",
        "vowels = \"aeiouAEIOU\"\n",
        "count = sum(1 for char in s if char in vowels)\n",
        "print(count)"
      ]
    },
    {
      "cell_type": "markdown",
      "id": "3b1907fb",
      "metadata": {
        "id": "3b1907fb"
      },
      "source": [
        "### Q: 3. Write a code to check if a given string is a palindrome or not"
      ]
    },
    {
      "cell_type": "code",
      "execution_count": null,
      "id": "21fd02da",
      "metadata": {
        "id": "21fd02da"
      },
      "outputs": [],
      "source": [
        "s = \"madam\"\n",
        "print(s == s[::-1])"
      ]
    },
    {
      "cell_type": "markdown",
      "id": "34f15e83",
      "metadata": {
        "id": "34f15e83"
      },
      "source": [
        "### Q: 4. Write a code to check if two given strings are anagrams of each other"
      ]
    },
    {
      "cell_type": "code",
      "execution_count": null,
      "id": "3e170b1d",
      "metadata": {
        "id": "3e170b1d"
      },
      "outputs": [],
      "source": [
        "from collections import Counter\n",
        "s1, s2 = \"listen\", \"silent\"\n",
        "print(Counter(s1) == Counter(s2))"
      ]
    },
    {
      "cell_type": "markdown",
      "id": "e2f2a57b",
      "metadata": {
        "id": "e2f2a57b"
      },
      "source": [
        "### Q: 5. Write a code to find all occurrences of a given substring within another string"
      ]
    },
    {
      "cell_type": "code",
      "execution_count": null,
      "id": "28331069",
      "metadata": {
        "id": "28331069"
      },
      "outputs": [],
      "source": [
        "s, sub = \"banana\", \"ana\"\n",
        "positions = [i for i in range(len(s)) if s.startswith(sub, i)]\n",
        "print(positions)"
      ]
    },
    {
      "cell_type": "markdown",
      "id": "9b48be1c",
      "metadata": {
        "id": "9b48be1c"
      },
      "source": [
        "### Q: 6. Write a code to perform basic string compression using the counts of repeated characters"
      ]
    },
    {
      "cell_type": "code",
      "execution_count": null,
      "id": "003d4fad",
      "metadata": {
        "id": "003d4fad"
      },
      "outputs": [],
      "source": [
        "s = \"aaabbcccc\"\n",
        "compressed = \"\"\n",
        "i = 0\n",
        "while i < len(s):\n",
        "    count = 1\n",
        "    while i + 1 < len(s) and s[i] == s[i + 1]:\n",
        "        i += 1\n",
        "        count += 1\n",
        "    compressed += s[i] + str(count)\n",
        "    i += 1\n",
        "print(compressed)"
      ]
    },
    {
      "cell_type": "markdown",
      "id": "b908deb0",
      "metadata": {
        "id": "b908deb0"
      },
      "source": [
        "### Q: 7. Write a code to determine if a string has all unique characters"
      ]
    },
    {
      "cell_type": "code",
      "execution_count": null,
      "id": "2b3fc8e2",
      "metadata": {
        "id": "2b3fc8e2"
      },
      "outputs": [],
      "source": [
        "s = \"abcdefg\"\n",
        "print(len(set(s)) == len(s))"
      ]
    },
    {
      "cell_type": "markdown",
      "id": "04781b70",
      "metadata": {
        "id": "04781b70"
      },
      "source": [
        "### Q: 8. Write a code to convert a given string to uppercase or lowercase"
      ]
    },
    {
      "cell_type": "code",
      "execution_count": null,
      "id": "9e6e8701",
      "metadata": {
        "id": "9e6e8701"
      },
      "outputs": [],
      "source": [
        "s = \"HeLLo\"\n",
        "print(s.lower())\n",
        "print(s.upper())"
      ]
    },
    {
      "cell_type": "markdown",
      "id": "7a799d19",
      "metadata": {
        "id": "7a799d19"
      },
      "source": [
        "### Q: 9. Write a code to count the number of words in a string"
      ]
    },
    {
      "cell_type": "code",
      "execution_count": null,
      "id": "096cdf80",
      "metadata": {
        "id": "096cdf80"
      },
      "outputs": [],
      "source": [
        "s = \"hello world from python\"\n",
        "print(len(s.split()))"
      ]
    },
    {
      "cell_type": "markdown",
      "id": "c33a981a",
      "metadata": {
        "id": "c33a981a"
      },
      "source": [
        "### Q: 10. Write a code to concatenate two strings without using the + operator"
      ]
    },
    {
      "cell_type": "code",
      "execution_count": null,
      "id": "3e7a0158",
      "metadata": {
        "id": "3e7a0158"
      },
      "outputs": [],
      "source": [
        "s1, s2 = \"hello\", \"world\"\n",
        "print(\"\".join([s1, s2]))"
      ]
    },
    {
      "cell_type": "markdown",
      "id": "69d8c234",
      "metadata": {
        "id": "69d8c234"
      },
      "source": [
        "### Q: 11. Write a code to remove all occurrences of a specific element from a list"
      ]
    },
    {
      "cell_type": "code",
      "execution_count": null,
      "id": "06386ec3",
      "metadata": {
        "id": "06386ec3"
      },
      "outputs": [],
      "source": [
        "lst = [1, 2, 3, 2, 4]\n",
        "element = 2\n",
        "filtered = [x for x in lst if x != element]\n",
        "print(filtered)"
      ]
    },
    {
      "cell_type": "markdown",
      "id": "ce1ba445",
      "metadata": {
        "id": "ce1ba445"
      },
      "source": [
        "### Q: 12. Implement a code to find the second largest number in a given list of integers"
      ]
    },
    {
      "cell_type": "code",
      "execution_count": null,
      "id": "ac318a54",
      "metadata": {
        "id": "ac318a54"
      },
      "outputs": [],
      "source": [
        "lst = [10, 20, 4, 45, 99]\n",
        "lst = list(set(lst))\n",
        "lst.sort()\n",
        "print(lst[-2])"
      ]
    },
    {
      "cell_type": "markdown",
      "id": "6d642266",
      "metadata": {
        "id": "6d642266"
      },
      "source": [
        "### Q: 13. Create a code to count the occurrences of each element in a list and return a dictionary"
      ]
    },
    {
      "cell_type": "code",
      "execution_count": null,
      "id": "cd65f07a",
      "metadata": {
        "id": "cd65f07a"
      },
      "outputs": [],
      "source": [
        "lst = [1, 2, 2, 3, 1, 4]\n",
        "from collections import Counter\n",
        "print(dict(Counter(lst)))"
      ]
    },
    {
      "cell_type": "markdown",
      "id": "c3bb5bb8",
      "metadata": {
        "id": "c3bb5bb8"
      },
      "source": [
        "### Q: 14. Write a code to reverse a list in-place without using any built-in reverse functions"
      ]
    },
    {
      "cell_type": "code",
      "execution_count": null,
      "id": "5dc92514",
      "metadata": {
        "id": "5dc92514"
      },
      "outputs": [],
      "source": [
        "lst = [1, 2, 3, 4]\n",
        "for i in range(len(lst)//2):\n",
        "    lst[i], lst[-i-1] = lst[-i-1], lst[i]\n",
        "print(lst)"
      ]
    },
    {
      "cell_type": "markdown",
      "id": "70157ecb",
      "metadata": {
        "id": "70157ecb"
      },
      "source": [
        "### Q: 15. Implement a code to find and remove duplicates from a list while preserving the original order of elements"
      ]
    },
    {
      "cell_type": "code",
      "execution_count": null,
      "id": "8a24f024",
      "metadata": {
        "id": "8a24f024"
      },
      "outputs": [],
      "source": [
        "lst = [1, 2, 2, 3, 1, 4]\n",
        "seen = set()\n",
        "unique = []\n",
        "for x in lst:\n",
        "    if x not in seen:\n",
        "        seen.add(x)\n",
        "        unique.append(x)\n",
        "print(unique)"
      ]
    },
    {
      "cell_type": "markdown",
      "id": "18dc1794",
      "metadata": {
        "id": "18dc1794"
      },
      "source": [
        "### Q: 16. Create a code to check if a given list is sorted (either in ascending or descending order) or not"
      ]
    },
    {
      "cell_type": "code",
      "execution_count": null,
      "id": "a125c619",
      "metadata": {
        "id": "a125c619"
      },
      "outputs": [],
      "source": [
        "lst = [1, 2, 3]\n",
        "print(lst == sorted(lst) or lst == sorted(lst, reverse=True))"
      ]
    },
    {
      "cell_type": "markdown",
      "id": "3583a99a",
      "metadata": {
        "id": "3583a99a"
      },
      "source": [
        "### Q: 17. Write a code to merge two sorted lists into a single sorted list"
      ]
    },
    {
      "cell_type": "code",
      "execution_count": null,
      "id": "08cc7c88",
      "metadata": {
        "id": "08cc7c88"
      },
      "outputs": [],
      "source": [
        "a, b = [1, 3, 5], [2, 4, 6]\n",
        "merged = sorted(a + b)\n",
        "print(merged)"
      ]
    },
    {
      "cell_type": "markdown",
      "id": "0f932897",
      "metadata": {
        "id": "0f932897"
      },
      "source": [
        "### Q: 18. Implement a code to find the intersection of two given lists"
      ]
    },
    {
      "cell_type": "code",
      "execution_count": null,
      "id": "83b559a6",
      "metadata": {
        "id": "83b559a6"
      },
      "outputs": [],
      "source": [
        "a, b = [1, 2, 3], [2, 3, 4]\n",
        "print(list(set(a) & set(b)))"
      ]
    },
    {
      "cell_type": "markdown",
      "id": "0742b0dd",
      "metadata": {
        "id": "0742b0dd"
      },
      "source": [
        "### Q: 19. Create a code to find the union of two lists without duplicates"
      ]
    },
    {
      "cell_type": "code",
      "execution_count": null,
      "id": "afb741cc",
      "metadata": {
        "id": "afb741cc"
      },
      "outputs": [],
      "source": [
        "a, b = [1, 2], [2, 3]\n",
        "print(list(set(a + b)))"
      ]
    },
    {
      "cell_type": "markdown",
      "id": "4c62a041",
      "metadata": {
        "id": "4c62a041"
      },
      "source": [
        "### Q: 20. Write a code to shuffle a given list randomly without using any built-in shuffle functions"
      ]
    },
    {
      "cell_type": "code",
      "execution_count": null,
      "id": "b75e48da",
      "metadata": {
        "id": "b75e48da"
      },
      "outputs": [],
      "source": [
        "import random\n",
        "lst = [1, 2, 3, 4]\n",
        "for i in range(len(lst)-1, 0, -1):\n",
        "    j = random.randint(0, i)\n",
        "    lst[i], lst[j] = lst[j], lst[i]\n",
        "print(lst)"
      ]
    },
    {
      "cell_type": "markdown",
      "id": "fd5e4ff2",
      "metadata": {
        "id": "fd5e4ff2"
      },
      "source": [
        "### Q: 21. Write a code that takes two tuples as input and returns a new tuple containing elements that are common to both input tuples"
      ]
    },
    {
      "cell_type": "code",
      "execution_count": null,
      "id": "af95c240",
      "metadata": {
        "id": "af95c240"
      },
      "outputs": [],
      "source": [
        "a, b = (1, 2, 3), (2, 3, 4)\n",
        "print(tuple(set(a) & set(b)))"
      ]
    },
    {
      "cell_type": "markdown",
      "id": "45396f02",
      "metadata": {
        "id": "45396f02"
      },
      "source": [
        "### Q: 22. Create a code that prompts the user to enter two sets of integers separated by commas. Then, print the intersection of these two sets"
      ]
    },
    {
      "cell_type": "code",
      "execution_count": null,
      "id": "0772e4a9",
      "metadata": {
        "id": "0772e4a9"
      },
      "outputs": [],
      "source": [
        "a = set(map(int, input(\"Enter set A (comma-separated): \").split(\",\")))\n",
        "b = set(map(int, input(\"Enter set B (comma-separated): \").split(\",\")))\n",
        "print(a & b)"
      ]
    },
    {
      "cell_type": "markdown",
      "id": "b0469a02",
      "metadata": {
        "id": "b0469a02"
      },
      "source": [
        "### Q: 23. Write a code to concatenate two tuples"
      ]
    },
    {
      "cell_type": "code",
      "execution_count": null,
      "id": "8a397dec",
      "metadata": {
        "id": "8a397dec"
      },
      "outputs": [],
      "source": [
        "a, b = (1, 2), (3, 4)\n",
        "print(a + b)"
      ]
    },
    {
      "cell_type": "markdown",
      "id": "e8cab47d",
      "metadata": {
        "id": "e8cab47d"
      },
      "source": [
        "### Q: 24. Develop a code that prompts the user to input two sets of strings. Then, print the elements that are present in the first set but not in the second set"
      ]
    },
    {
      "cell_type": "code",
      "execution_count": null,
      "id": "7777aca3",
      "metadata": {
        "id": "7777aca3"
      },
      "outputs": [],
      "source": [
        "a = set(input(\"Enter Set A: \").split())\n",
        "b = set(input(\"Enter Set B: \").split())\n",
        "print(a - b)"
      ]
    },
    {
      "cell_type": "markdown",
      "id": "42f10f14",
      "metadata": {
        "id": "42f10f14"
      },
      "source": [
        "### Q: 25. Create a code that takes a tuple and two integers as input. The function should return a new tuple containing elements from the original tuple within the specified range of indices"
      ]
    },
    {
      "cell_type": "code",
      "execution_count": null,
      "id": "c5824dc5",
      "metadata": {
        "id": "c5824dc5"
      },
      "outputs": [],
      "source": [
        "def slice_tuple(t, start, end):\n",
        "    return t[start:end]\n",
        "print(slice_tuple((1, 2, 3, 4, 5), 1, 4))"
      ]
    },
    {
      "cell_type": "markdown",
      "id": "5487a321",
      "metadata": {
        "id": "5487a321"
      },
      "source": [
        "### Q: 26. Write a code that prompts the user to input two sets of characters. Then, print the union of these two sets"
      ]
    },
    {
      "cell_type": "code",
      "execution_count": null,
      "id": "e7870102",
      "metadata": {
        "id": "e7870102"
      },
      "outputs": [],
      "source": [
        "a = set(input(\"Set A: \"))\n",
        "b = set(input(\"Set B: \"))\n",
        "print(a | b)"
      ]
    },
    {
      "cell_type": "markdown",
      "id": "b2daa8fa",
      "metadata": {
        "id": "b2daa8fa"
      },
      "source": [
        "### Q: 27. Develop a code that takes a tuple of integers as input. The function should return the maximum and minimum values from the tuple using tuple unpacking"
      ]
    },
    {
      "cell_type": "code",
      "execution_count": null,
      "id": "e08c29d3",
      "metadata": {
        "id": "e08c29d3"
      },
      "outputs": [],
      "source": [
        "t = (3, 1, 4, 2)\n",
        "print(max(t), min(t))"
      ]
    },
    {
      "cell_type": "markdown",
      "id": "c48e7748",
      "metadata": {
        "id": "c48e7748"
      },
      "source": [
        "### Q: 28. Create a code that defines two sets of integers. Then, print the union, intersection, and difference of these two sets"
      ]
    },
    {
      "cell_type": "code",
      "execution_count": null,
      "id": "c6e2e180",
      "metadata": {
        "id": "c6e2e180"
      },
      "outputs": [],
      "source": [
        "a, b = {1, 2, 3}, {2, 3, 4}\n",
        "print(\"Union:\", a | b)\n",
        "print(\"Intersection:\", a & b)\n",
        "print(\"Difference:\", a - b)"
      ]
    },
    {
      "cell_type": "markdown",
      "id": "19c37b63",
      "metadata": {
        "id": "19c37b63"
      },
      "source": [
        "### Q: 29. Write a code that takes a tuple and an element as input. The function should return the count of occurrences of the given element in the tuple"
      ]
    },
    {
      "cell_type": "code",
      "execution_count": null,
      "id": "1bca8048",
      "metadata": {
        "id": "1bca8048"
      },
      "outputs": [],
      "source": [
        "t = (1, 2, 3, 2, 4, 2)\n",
        "element = 2\n",
        "print(t.count(element))"
      ]
    },
    {
      "cell_type": "markdown",
      "id": "fd194d00",
      "metadata": {
        "id": "fd194d00"
      },
      "source": [
        "### Q: 30. Develop a code that prompts the user to input two sets of strings. Then, print the symmetric difference of these two sets"
      ]
    },
    {
      "cell_type": "code",
      "execution_count": null,
      "id": "426ad91d",
      "metadata": {
        "id": "426ad91d"
      },
      "outputs": [],
      "source": [
        "a = set(input(\"Enter Set A: \").split())\n",
        "b = set(input(\"Enter Set B: \").split())\n",
        "print(a ^ b)"
      ]
    },
    {
      "cell_type": "markdown",
      "id": "bb94739c",
      "metadata": {
        "id": "bb94739c"
      },
      "source": [
        "### Q: 31. Write a code that takes a list of words as input and returns a dictionary where the keys are unique words and the values are the frequencies of those words in the input list"
      ]
    },
    {
      "cell_type": "code",
      "execution_count": null,
      "id": "2b0a2363",
      "metadata": {
        "id": "2b0a2363"
      },
      "outputs": [],
      "source": [
        "words = [\"apple\", \"banana\", \"apple\"]\n",
        "from collections import Counter\n",
        "print(dict(Counter(words)))"
      ]
    },
    {
      "cell_type": "markdown",
      "id": "4bfb4b47",
      "metadata": {
        "id": "4bfb4b47"
      },
      "source": [
        "### Q: 32. Write a code that takes two dictionaries as input and merges them into a single dictionary. If there are common keys, the values should be added together"
      ]
    },
    {
      "cell_type": "code",
      "execution_count": null,
      "id": "53aef094",
      "metadata": {
        "id": "53aef094"
      },
      "outputs": [],
      "source": [
        "d1, d2 = {\"a\": 1, \"b\": 2}, {\"b\": 3, \"c\": 4}\n",
        "merged = d1.copy()\n",
        "for k, v in d2.items():\n",
        "    merged[k] = merged.get(k, 0) + v\n",
        "print(merged)"
      ]
    },
    {
      "cell_type": "markdown",
      "id": "f861d6a2",
      "metadata": {
        "id": "f861d6a2"
      },
      "source": [
        "### Q: 33. Write a code to access a value in a nested dictionary"
      ]
    },
    {
      "cell_type": "code",
      "execution_count": null,
      "id": "e5573cef",
      "metadata": {
        "id": "e5573cef"
      },
      "outputs": [],
      "source": [
        "def get_nested(d, keys):\n",
        "    for key in keys:\n",
        "        if key in d:\n",
        "            d = d[key]\n",
        "        else:\n",
        "            return None\n",
        "    return d\n",
        "nested = {\"a\": {\"b\": {\"c\": 1}}}\n",
        "print(get_nested(nested, [\"a\", \"b\", \"c\"]))"
      ]
    },
    {
      "cell_type": "markdown",
      "id": "6a197108",
      "metadata": {
        "id": "6a197108"
      },
      "source": [
        "### Q: 34. Write a code that takes a dictionary as input and returns a sorted version of it based on the values"
      ]
    },
    {
      "cell_type": "code",
      "execution_count": null,
      "id": "171c4265",
      "metadata": {
        "id": "171c4265"
      },
      "outputs": [],
      "source": [
        "d = {\"a\": 3, \"b\": 1, \"c\": 2}\n",
        "sorted_d = dict(sorted(d.items(), key=lambda item: item[1]))\n",
        "print(sorted_d)"
      ]
    },
    {
      "cell_type": "markdown",
      "id": "8c5d3fe6",
      "metadata": {
        "id": "8c5d3fe6"
      },
      "source": [
        "### Q: 35. Write a code that inverts a dictionary, swapping keys and values"
      ]
    },
    {
      "cell_type": "code",
      "execution_count": null,
      "id": "fc6d300d",
      "metadata": {
        "id": "fc6d300d"
      },
      "outputs": [],
      "source": [
        "d = {\"a\": 1, \"b\": 2, \"c\": 1}\n",
        "inverted = {}\n",
        "for k, v in d.items():\n",
        "    inverted.setdefault(v, []).append(k)\n",
        "print(inverted)"
      ]
    }
  ],
  "metadata": {
    "colab": {
      "provenance": [],
      "include_colab_link": true
    }
  },
  "nbformat": 4,
  "nbformat_minor": 5
}